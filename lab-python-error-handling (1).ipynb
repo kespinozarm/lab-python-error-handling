{
 "cells": [
  {
   "cell_type": "markdown",
   "id": "25d7736c-ba17-4aff-b6bb-66eba20fbf4e",
   "metadata": {},
   "source": [
    "# Lab | Error Handling"
   ]
  },
  {
   "cell_type": "markdown",
   "id": "bc99b386-7508-47a0-bcdb-d969deaf6c8b",
   "metadata": {},
   "source": [
    "## Exercise: Error Handling for Managing Customer Orders\n",
    "\n",
    "The implementation of your code for managing customer orders assumes that the user will always enter a valid input. \n",
    "\n",
    "For example, we could modify the `initialize_inventory` function to include error handling.\n",
    "   - If the user enters an invalid quantity (e.g., a negative value or a non-numeric value), display an error message and ask them to re-enter the quantity for that product.\n",
    "   - Use a try-except block to handle the error and continue prompting the user until a valid quantity is entered.\n",
    "\n",
    "```python\n",
    "# Step 1: Define the function for initializing the inventory with error handling\n",
    "def initialize_inventory(products):\n",
    "    inventory = {}\n",
    "    for product in products:\n",
    "        valid_quantity = False\n",
    "        while not valid_quantity:\n",
    "            try:\n",
    "                quantity = int(input(f\"Enter the quantity of {product}s available: \"))\n",
    "                if quantity < 0:\n",
    "                    raise ValueError(\"Invalid quantity! Please enter a non-negative value.\")\n",
    "                valid_quantity = True\n",
    "            except ValueError as error:\n",
    "                print(f\"Error: {error}\")\n",
    "        inventory[product] = quantity\n",
    "    return inventory\n",
    "\n",
    "# Or, in another way:\n",
    "\n",
    "def initialize_inventory(products):\n",
    "    inventory = {}\n",
    "    for product in products:\n",
    "        valid_input = False\n",
    "        while not valid_input:\n",
    "            try:\n",
    "                quantity = int(input(f\"Enter the quantity of {product}s available: \"))\n",
    "                if quantity >= 0:\n",
    "                    inventory[product] = quantity\n",
    "                    valid_input = True\n",
    "                else:\n",
    "                    print(\"Quantity cannot be negative. Please enter a valid quantity.\")\n",
    "            except ValueError:\n",
    "                print(\"Invalid input. Please enter a valid quantity.\")\n",
    "    return inventory\n",
    "```\n",
    "\n",
    "Let's enhance your code by implementing error handling to handle invalid inputs.\n",
    "\n",
    "Follow the steps below to complete the exercise:\n",
    "\n",
    "2. Modify the `calculate_total_price` function to include error handling.\n",
    "   - If the user enters an invalid price (e.g., a negative value or a non-numeric value), display an error message and ask them to re-enter the price for that product.\n",
    "   - Use a try-except block to handle the error and continue prompting the user until a valid price is entered.\n",
    "\n",
    "3. Modify the `get_customer_orders` function to include error handling.\n",
    "   - If the user enters an invalid number of orders (e.g., a negative value or a non-numeric value), display an error message and ask them to re-enter the number of orders.\n",
    "   - If the user enters an invalid product name (e.g., a product name that is not in the inventory), or that doesn't have stock available, display an error message and ask them to re-enter the product name. *Hint: you will need to pass inventory as a parameter*\n",
    "   - Use a try-except block to handle the error and continue prompting the user until a valid product name is entered.\n",
    "\n",
    "4. Test your code by running the program and deliberately entering invalid quantities and product names. Make sure the error handling mechanism works as expected.\n"
   ]
  },
  {
   "cell_type": "code",
   "execution_count": 114,
   "id": "1ddcc329-9645-403c-acc8-8849eba16f51",
   "metadata": {},
   "outputs": [],
   "source": [
    "products = [\"t-shirt\", \"mug\", \"hat\", \"book\", \"keychain\"]\n",
    "\n",
    "def initialize_inventory(products):\n",
    "    inventory = {}\n",
    "    for product in products:\n",
    "\n",
    "        valid_input = False \n",
    "        while not valid_input:\n",
    "            try:\n",
    "                quantity = int(input(f\"How many of this {product} are: \"))\n",
    "                inventory[product] = quantity\n",
    "                break\n",
    "    \n",
    "            except ValueError:\n",
    "                print (\"Please enter a digit number:\") #in case customer add something that isn't an int\n",
    "    return inventory\n"
   ]
  },
  {
   "cell_type": "code",
   "execution_count": 118,
   "id": "b0b8430c-feb1-4c59-aa90-59662bb5ed27",
   "metadata": {},
   "outputs": [
    {
     "name": "stdin",
     "output_type": "stream",
     "text": [
      "How many of this t-shirt are:  100\n",
      "How many of this mug are:  a\n"
     ]
    },
    {
     "name": "stdout",
     "output_type": "stream",
     "text": [
      "Please enter a digit number:\n"
     ]
    },
    {
     "name": "stdin",
     "output_type": "stream",
     "text": [
      "How many of this mug are:  hundred\n"
     ]
    },
    {
     "name": "stdout",
     "output_type": "stream",
     "text": [
      "Please enter a digit number:\n"
     ]
    },
    {
     "name": "stdin",
     "output_type": "stream",
     "text": [
      "How many of this mug are:  100,0\n"
     ]
    },
    {
     "name": "stdout",
     "output_type": "stream",
     "text": [
      "Please enter a digit number:\n"
     ]
    },
    {
     "name": "stdin",
     "output_type": "stream",
     "text": [
      "How many of this mug are:  100\n",
      "How many of this hat are:  100\n",
      "How many of this book are:  100\n",
      "How many of this keychain are:  100\n"
     ]
    },
    {
     "data": {
      "text/plain": [
       "{'t-shirt': 100, 'mug': 100, 'hat': 100, 'book': 100, 'keychain': 100}"
      ]
     },
     "execution_count": 118,
     "metadata": {},
     "output_type": "execute_result"
    }
   ],
   "source": [
    "initialize_inventory(products)"
   ]
  },
  {
   "cell_type": "code",
   "execution_count": 120,
   "id": "8a20aee5-19a6-4c05-a8d1-4462fc4c86cf",
   "metadata": {},
   "outputs": [],
   "source": [
    "products = [\"t-shirt\", \"mug\", \"hat\", \"book\", \"keychain\"]\n",
    "\n",
    "def calculate_total_price(products):\n",
    "    inventory_price = {}\n",
    "    \n",
    "    for product in products:        \n",
    "        valid_input = False\n",
    "        while not valid_input:\n",
    "                try:\n",
    "                    price = float(input(f\"Enter the price for this {product}: \"))\n",
    "                    if price < 0:\n",
    "                        print(\"Price can't be negative. Try again:\")\n",
    "                    else:\n",
    "                        inventory_price[product] = price\n",
    "                        valid_input = True\n",
    "                    break\n",
    "        \n",
    "                except ValueError:\n",
    "                    print (\"Please enter a digit number:\") #in case customer add something that isn't an int\n",
    "\n",
    "    print(\"Inventory:\", inventory_price)\n",
    "    \n",
    "    # Calculate total price\n",
    "    total_price = sum(inventory_price.values())\n",
    "    \n",
    "    # Print total price\n",
    "    print(f\"Total price: ${total_price:.2f}\")\n",
    "    \n",
    "    return total_price\n",
    "    "
   ]
  },
  {
   "cell_type": "code",
   "execution_count": 122,
   "id": "1b5c75e6-47af-4953-a893-1ae311b3bafd",
   "metadata": {},
   "outputs": [
    {
     "name": "stdin",
     "output_type": "stream",
     "text": [
      "Enter the price for this t-shirt:  100\n",
      "Enter the price for this mug:  -1\n"
     ]
    },
    {
     "name": "stdout",
     "output_type": "stream",
     "text": [
      "Price can't be negative. Try again:\n"
     ]
    },
    {
     "name": "stdin",
     "output_type": "stream",
     "text": [
      "Enter the price for this hat:  200\n",
      "Enter the price for this book:  200\n",
      "Enter the price for this keychain:  a\n"
     ]
    },
    {
     "name": "stdout",
     "output_type": "stream",
     "text": [
      "Please enter a digit number:\n"
     ]
    },
    {
     "name": "stdin",
     "output_type": "stream",
     "text": [
      "Enter the price for this keychain:  300\n"
     ]
    },
    {
     "name": "stdout",
     "output_type": "stream",
     "text": [
      "Inventory: {'t-shirt': 100.0, 'hat': 200.0, 'book': 200.0, 'keychain': 300.0}\n",
      "Total price: $800.00\n"
     ]
    },
    {
     "data": {
      "text/plain": [
       "800.0"
      ]
     },
     "execution_count": 122,
     "metadata": {},
     "output_type": "execute_result"
    }
   ],
   "source": [
    "calculate_total_price(products)"
   ]
  },
  {
   "cell_type": "code",
   "execution_count": null,
   "id": "15776a94-8477-456a-b03f-61216a8cc7c2",
   "metadata": {},
   "outputs": [],
   "source": [
    "\n",
    "#3. Modify the `get_customer_orders` function to include error handling.\n",
    "\"\"If the user enters an invalid number of orders (e.g., a negative value or a non-numeric value), \n",
    "display an error message and ask them to re-enter the number of orders.\n",
    "   - If the user enters an invalid product name (e.g., a product name that is not in the inventory), \n",
    "   or that doesn't have stock available, display an error message and ask them to re-enter the product name. \n",
    "   *Hint: you will need to pass inventory as a parameter*\n",
    "   - Use a try-except block to handle the error and continue prompting the user until a valid product name is entered. \"\"\n",
    "\n",
    "\n",
    "def get_customer_orders():\n",
    "    customer_orders = []\n",
    "    order = input(f\"What 3 products do you want to order? {products} :\").split(',')\n",
    "\n",
    "    more_products = input(\"do you want to add another product? Yes/no: \")\n",
    "    while more_products == \"no\":\n",
    "        break\n",
    "    if more_products == \"yes\":\n",
    "        order = input(f\"What products do you want to order? {products} :\").split(',')\n",
    "\n",
    "    \n",
    "    print(\"The order is:\", customer_orders)  \n",
    "    return customer_orders\n",
    "\n",
    "\n",
    "\n"
   ]
  },
  {
   "cell_type": "code",
   "execution_count": 132,
   "id": "3205dfca-4e9c-4b61-acf0-5cf51608434c",
   "metadata": {},
   "outputs": [],
   "source": [
    "products = [\"t-shirt\", \"mug\", \"hat\", \"book\", \"keychain\"]\n",
    "\n",
    "\n",
    "def get_customer_orders(inventory):\n",
    "    customer_orders = []\n",
    "    \n",
    "    for product in products:        \n",
    "        valid_input = False\n",
    "        order = input(f\"What 3 products do you want to order? {products} :\").split(',')\n",
    "        if price != inventory:\n",
    "            print(\"Product not available. Try again:\")\n",
    "        else:\n",
    "            inventory[product] == quantity\n",
    "            valid_input = True\n",
    "        break\n",
    "        return customer_orders\n",
    "\n"
   ]
  },
  {
   "cell_type": "code",
   "execution_count": 134,
   "id": "619d50e4-343e-4726-baa3-c3679320486d",
   "metadata": {},
   "outputs": [
    {
     "ename": "NameError",
     "evalue": "name 'inventory' is not defined",
     "output_type": "error",
     "traceback": [
      "\u001b[0;31m---------------------------------------------------------------------------\u001b[0m",
      "\u001b[0;31mNameError\u001b[0m                                 Traceback (most recent call last)",
      "Cell \u001b[0;32mIn[134], line 1\u001b[0m\n\u001b[0;32m----> 1\u001b[0m get_customer_orders(inventory)\n",
      "\u001b[0;31mNameError\u001b[0m: name 'inventory' is not defined"
     ]
    }
   ],
   "source": [
    "get_customer_orders(inventory)"
   ]
  },
  {
   "cell_type": "code",
   "execution_count": null,
   "id": "5c87afeb-b67d-4d9f-981d-ce82ba70ee0c",
   "metadata": {},
   "outputs": [],
   "source": []
  }
 ],
 "metadata": {
  "kernelspec": {
   "display_name": "Python 3 (ipykernel)",
   "language": "python",
   "name": "python3"
  },
  "language_info": {
   "codemirror_mode": {
    "name": "ipython",
    "version": 3
   },
   "file_extension": ".py",
   "mimetype": "text/x-python",
   "name": "python",
   "nbconvert_exporter": "python",
   "pygments_lexer": "ipython3",
   "version": "3.11.7"
  }
 },
 "nbformat": 4,
 "nbformat_minor": 5
}
